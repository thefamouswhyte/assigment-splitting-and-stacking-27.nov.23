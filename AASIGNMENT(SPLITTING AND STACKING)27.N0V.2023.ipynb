{
 "cells": [
  {
   "cell_type": "markdown",
   "id": "00aa3c61",
   "metadata": {},
   "source": [
    "# STACKING\n",
    "# several arrays can be stacked together along different axes.\n",
    "\n",
    "# np.vstack: to stack arrays along vertical axis\n",
    "# np.hstack: to stack arrays along horizontal axis\n",
    "# np.column_stack: to stack 1-D arrays as colums into 2-D arrays\n",
    "# np.row_stack: to stack 1-D arrays as rows into 2-D arrays\n",
    "# np.concatenate: to stack arrays along specififed axis(axis is passed as argument)    "
   ]
  },
  {
   "cell_type": "code",
   "execution_count": 5,
   "id": "b091cf4c",
   "metadata": {},
   "outputs": [],
   "source": [
    "import numpy as np"
   ]
  },
  {
   "cell_type": "code",
   "execution_count": 7,
   "id": "4ac9cf2b",
   "metadata": {},
   "outputs": [],
   "source": [
    "a= np.array([[1,2],\n",
    "            [3,4]])\n",
    "b= np.array([[5,6],\n",
    "            [7,8]])"
   ]
  },
  {
   "cell_type": "code",
   "execution_count": 8,
   "id": "7345b69f",
   "metadata": {},
   "outputs": [
    {
     "data": {
      "text/plain": [
       "array([[1, 2],\n",
       "       [3, 4]])"
      ]
     },
     "execution_count": 8,
     "metadata": {},
     "output_type": "execute_result"
    }
   ],
   "source": [
    "a"
   ]
  },
  {
   "cell_type": "code",
   "execution_count": 9,
   "id": "60efb15e",
   "metadata": {},
   "outputs": [
    {
     "data": {
      "text/plain": [
       "array([[5, 6],\n",
       "       [7, 8]])"
      ]
     },
     "execution_count": 9,
     "metadata": {},
     "output_type": "execute_result"
    }
   ],
   "source": [
    "b"
   ]
  },
  {
   "cell_type": "code",
   "execution_count": 10,
   "id": "88087b19",
   "metadata": {},
   "outputs": [
    {
     "data": {
      "text/plain": [
       "array([[1, 2],\n",
       "       [3, 4],\n",
       "       [5, 6],\n",
       "       [7, 8]])"
      ]
     },
     "execution_count": 10,
     "metadata": {},
     "output_type": "execute_result"
    }
   ],
   "source": [
    "np.vstack((a,b))"
   ]
  },
  {
   "cell_type": "code",
   "execution_count": 11,
   "id": "e0a9a782",
   "metadata": {},
   "outputs": [
    {
     "data": {
      "text/plain": [
       "array([[1, 2, 5, 6],\n",
       "       [3, 4, 7, 8]])"
      ]
     },
     "execution_count": 11,
     "metadata": {},
     "output_type": "execute_result"
    }
   ],
   "source": [
    "np.hstack((a,b))"
   ]
  },
  {
   "cell_type": "markdown",
   "id": "d1173458",
   "metadata": {},
   "source": [
    "# for column"
   ]
  },
  {
   "cell_type": "code",
   "execution_count": 12,
   "id": "1356806d",
   "metadata": {},
   "outputs": [],
   "source": [
    "c= np.array([1,0])"
   ]
  },
  {
   "cell_type": "code",
   "execution_count": 14,
   "id": "61c382c1",
   "metadata": {},
   "outputs": [
    {
     "data": {
      "text/plain": [
       "array([[1, 2, 1],\n",
       "       [3, 4, 0]])"
      ]
     },
     "execution_count": 14,
     "metadata": {},
     "output_type": "execute_result"
    }
   ],
   "source": [
    "np.column_stack((a,c))"
   ]
  },
  {
   "cell_type": "markdown",
   "id": "8f62bd58",
   "metadata": {},
   "source": [
    "# for row"
   ]
  },
  {
   "cell_type": "code",
   "execution_count": 15,
   "id": "65019455",
   "metadata": {},
   "outputs": [
    {
     "data": {
      "text/plain": [
       "array([[1, 2],\n",
       "       [3, 4],\n",
       "       [1, 0]])"
      ]
     },
     "execution_count": 15,
     "metadata": {},
     "output_type": "execute_result"
    }
   ],
   "source": [
    "np.row_stack((a,c))"
   ]
  },
  {
   "cell_type": "markdown",
   "id": "c29370ca",
   "metadata": {},
   "source": [
    "# for concatenate "
   ]
  },
  {
   "cell_type": "code",
   "execution_count": 16,
   "id": "14f24bf4",
   "metadata": {},
   "outputs": [
    {
     "data": {
      "text/plain": [
       "array([[1, 2, 5, 6],\n",
       "       [3, 4, 7, 8]])"
      ]
     },
     "execution_count": 16,
     "metadata": {},
     "output_type": "execute_result"
    }
   ],
   "source": [
    "np.concatenate((a,b), axis =1)"
   ]
  },
  {
   "cell_type": "markdown",
   "id": "af0a0711",
   "metadata": {},
   "source": [
    "# SPLITTING\n",
    "# for splitting, we have these functions:\n",
    "\n",
    "# np.hsplit: split along horizontal axis\n",
    "# np.vsplit: split arrays along vertical axis\n",
    "# np.array_split: split array along specific axis"
   ]
  },
  {
   "cell_type": "code",
   "execution_count": 17,
   "id": "fc00122b",
   "metadata": {},
   "outputs": [],
   "source": [
    "import numpy as np"
   ]
  },
  {
   "cell_type": "code",
   "execution_count": 18,
   "id": "4b2bd181",
   "metadata": {},
   "outputs": [],
   "source": [
    "a=np.array([[1,3,5,6,9,11],\n",
    "           [2,4,6,8,10,12]])"
   ]
  },
  {
   "cell_type": "code",
   "execution_count": 19,
   "id": "17ca1318",
   "metadata": {},
   "outputs": [
    {
     "data": {
      "text/plain": [
       "array([[ 1,  3,  5,  6,  9, 11],\n",
       "       [ 2,  4,  6,  8, 10, 12]])"
      ]
     },
     "execution_count": 19,
     "metadata": {},
     "output_type": "execute_result"
    }
   ],
   "source": [
    "a"
   ]
  },
  {
   "cell_type": "code",
   "execution_count": 21,
   "id": "f83e0d7b",
   "metadata": {},
   "outputs": [
    {
     "data": {
      "text/plain": [
       "[array([[1, 3, 5],\n",
       "        [2, 4, 6]]),\n",
       " array([[ 6,  9, 11],\n",
       "        [ 8, 10, 12]])]"
      ]
     },
     "execution_count": 21,
     "metadata": {},
     "output_type": "execute_result"
    }
   ],
   "source": [
    "np.hsplit(a,2)"
   ]
  },
  {
   "cell_type": "code",
   "execution_count": 28,
   "id": "aa9ea698",
   "metadata": {},
   "outputs": [
    {
     "data": {
      "text/plain": [
       "[array([[ 1,  3,  5,  6,  9, 11]]), array([[ 2,  4,  6,  8, 10, 12]])]"
      ]
     },
     "execution_count": 28,
     "metadata": {},
     "output_type": "execute_result"
    }
   ],
   "source": [
    "np.vsplit(a,2)"
   ]
  },
  {
   "cell_type": "code",
   "execution_count": 25,
   "id": "f3a69cbb",
   "metadata": {},
   "outputs": [
    {
     "data": {
      "text/plain": [
       "[array([[1, 3, 5],\n",
       "        [2, 4, 6]]),\n",
       " array([[ 6,  9, 11],\n",
       "        [ 8, 10, 12]])]"
      ]
     },
     "execution_count": 25,
     "metadata": {},
     "output_type": "execute_result"
    }
   ],
   "source": [
    "np.array_split(a,2, axis=1)"
   ]
  },
  {
   "cell_type": "code",
   "execution_count": null,
   "id": "71c13a54",
   "metadata": {},
   "outputs": [],
   "source": []
  }
 ],
 "metadata": {
  "kernelspec": {
   "display_name": "Python 3 (ipykernel)",
   "language": "python",
   "name": "python3"
  },
  "language_info": {
   "codemirror_mode": {
    "name": "ipython",
    "version": 3
   },
   "file_extension": ".py",
   "mimetype": "text/x-python",
   "name": "python",
   "nbconvert_exporter": "python",
   "pygments_lexer": "ipython3",
   "version": "3.11.4"
  }
 },
 "nbformat": 4,
 "nbformat_minor": 5
}
